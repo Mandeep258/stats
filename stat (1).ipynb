{
  "nbformat": 4,
  "nbformat_minor": 0,
  "metadata": {
    "colab": {
      "name": "stat.ipynb",
      "provenance": []
    },
    "kernelspec": {
      "name": "python3",
      "display_name": "Python 3"
    }
  },
  "cells": [
    {
      "cell_type": "code",
      "metadata": {
        "id": "PYmV8lDa2tX0"
      },
      "source": [
        ""
      ],
      "execution_count": null,
      "outputs": []
    },
    {
      "cell_type": "markdown",
      "metadata": {
        "id": "4x63Yynu2vHr"
      },
      "source": [
        "Descriptive Stats:\n",
        "  \n",
        "  Central Tendency: IF we have to summarize the data with a single number and if that number is the centre of the data.\n",
        "  \n",
        "  Mean($\\mu$): The sum of values divided by number of values.\n",
        "\n",
        "  Types of mean:\n",
        "1. Arithmetic Mean\n",
        "2. Geometric Mean\n",
        "3. Harmonic Mean\n",
        "\n",
        "  Geometric Mean: nth root product of n values. It can be used when we are dealing with percentages of values like calculating varying investment interests over years. \n",
        "\n",
        "  Harmonic Mean: It is used for denominator cases like velocity. number of values divided by sum of reciprocals of individual values\n",
        "\n",
        "Median: Mean has a disadvantage as it prone to outliers. Median sorts the value and then find the middle number depending on the number of values\n",
        "\n",
        "Mode: It provides us with the most common or most frequent term.\n",
        "\n",
        "Spread/Dispersion: If we have to find how spread the data is we go for variance and standard deviation.\n",
        "\n",
        "Variance: he variance (σ2), is defined as the sum of the squared distances of each term in the distribution from the mean (μ), divided by the number of terms in the distribution (N).\n",
        "\n",
        "Standard Deviation: square root of Variance\n",
        "\n",
        "Progression: \n",
        "    It is a sequence for which it is possible to find the nth term and sum in the sequence using formulas.\n",
        "\n",
        "Three types of Progressions:-\n",
        "    \n",
        "    1. Arithemtic Progression:\n",
        "        Sequence with a common difference of a constant, it is used when all values have same unit.\n",
        "        .....a-d, a, a+d, a+2d....\n",
        "\n",
        "        nth-term: a+(n-1)d\n",
        "        sum: (n(2a+(n-1)d)/2 = n/2(first+last)\n",
        "    \n",
        "    2. Geometric Progression:\n",
        "        Sequence with a common ratio of a constant,it is used for values exponential in nature like growth, adding dimensions in case of geometry.\n",
        "        .....a/r, a, ar, ar^2\n",
        "\n",
        "        nth-term: ar^(n-1)\n",
        "        sum: a(1-r^n)/(1-r)\n",
        "    \n",
        "    3. Harmonic Mean:\n",
        "        If the sequence a, b, c, d, …is considered as an arithmetic progression; the harmonic progression can be written as 1/a, 1/b, 1/c, 1/d, …\n",
        "     nth-term = 1/ [a+(n-1)d]\n",
        "     sum: (1/d)logn({(2a+(2n−1)d)/(2a−d)})\n",
        "\n"
      ]
    },
    {
      "cell_type": "code",
      "metadata": {
        "id": "Kijq9PLMHXng"
      },
      "source": [
        "import pandas as pd\n",
        "import seaborn as sns\n",
        "import matplotlib.pyplot as plt\n",
        "import numpy as np\n",
        "from sklearn.datasets import load_iris"
      ],
      "execution_count": 1,
      "outputs": []
    },
    {
      "cell_type": "code",
      "metadata": {
        "colab": {
          "base_uri": "https://localhost:8080/"
        },
        "id": "g7IFRpNWHdmp",
        "outputId": "b0e186ff-e7d7-4205-9885-9d2d089c3c4b"
      },
      "source": [
        "iris = load_iris()\n",
        "iris.keys()"
      ],
      "execution_count": 2,
      "outputs": [
        {
          "output_type": "execute_result",
          "data": {
            "text/plain": [
              "dict_keys(['data', 'target', 'target_names', 'DESCR', 'feature_names', 'filename'])"
            ]
          },
          "metadata": {
            "tags": []
          },
          "execution_count": 2
        }
      ]
    },
    {
      "cell_type": "code",
      "metadata": {
        "colab": {
          "base_uri": "https://localhost:8080/"
        },
        "id": "EarduHhrHiDi",
        "outputId": "8d1f0305-5f60-456d-e680-e02a14c8ca25"
      },
      "source": [
        "iris.target_names"
      ],
      "execution_count": 3,
      "outputs": [
        {
          "output_type": "execute_result",
          "data": {
            "text/plain": [
              "array(['setosa', 'versicolor', 'virginica'], dtype='<U10')"
            ]
          },
          "metadata": {
            "tags": []
          },
          "execution_count": 3
        }
      ]
    },
    {
      "cell_type": "code",
      "metadata": {
        "colab": {
          "base_uri": "https://localhost:8080/"
        },
        "id": "tONUxV6KHkLN",
        "outputId": "3e50f8a4-7251-4ca1-d8f7-073cff9682f1"
      },
      "source": [
        "print(iris.feature_names)"
      ],
      "execution_count": 4,
      "outputs": [
        {
          "output_type": "stream",
          "text": [
            "['sepal length (cm)', 'sepal width (cm)', 'petal length (cm)', 'petal width (cm)']\n"
          ],
          "name": "stdout"
        }
      ]
    },
    {
      "cell_type": "code",
      "metadata": {
        "id": "TxqLbd1iHmVt"
      },
      "source": [
        "df = pd.DataFrame(data= np.c_[iris['data'], iris['target']],\n",
        "                  columns=  ['sepal_length', 'sepal_width', 'petal_length', 'petal_width', 'target'])"
      ],
      "execution_count": 5,
      "outputs": []
    },
    {
      "cell_type": "code",
      "metadata": {
        "id": "_sFKg3r2HoRJ"
      },
      "source": [
        "def map_t(v):\n",
        "    if v == 0:\n",
        "        return 'setosa'\n",
        "    elif v==1:\n",
        "        return 'versicolor'\n",
        "    else:\n",
        "        return 'virginica'\n",
        "    "
      ],
      "execution_count": 6,
      "outputs": []
    },
    {
      "cell_type": "code",
      "metadata": {
        "id": "qq2Ogd1ZHq1X"
      },
      "source": [
        "df['target_names'] = df.target.apply(lambda x: map_t(x))"
      ],
      "execution_count": 7,
      "outputs": []
    },
    {
      "cell_type": "code",
      "metadata": {
        "colab": {
          "base_uri": "https://localhost:8080/",
          "height": 204
        },
        "id": "ccajit4zHstm",
        "outputId": "de1040f9-e1f2-49ed-e1a4-b096b3c68fc7"
      },
      "source": [
        "df.head()"
      ],
      "execution_count": 8,
      "outputs": [
        {
          "output_type": "execute_result",
          "data": {
            "text/html": [
              "<div>\n",
              "<style scoped>\n",
              "    .dataframe tbody tr th:only-of-type {\n",
              "        vertical-align: middle;\n",
              "    }\n",
              "\n",
              "    .dataframe tbody tr th {\n",
              "        vertical-align: top;\n",
              "    }\n",
              "\n",
              "    .dataframe thead th {\n",
              "        text-align: right;\n",
              "    }\n",
              "</style>\n",
              "<table border=\"1\" class=\"dataframe\">\n",
              "  <thead>\n",
              "    <tr style=\"text-align: right;\">\n",
              "      <th></th>\n",
              "      <th>sepal_length</th>\n",
              "      <th>sepal_width</th>\n",
              "      <th>petal_length</th>\n",
              "      <th>petal_width</th>\n",
              "      <th>target</th>\n",
              "      <th>target_names</th>\n",
              "    </tr>\n",
              "  </thead>\n",
              "  <tbody>\n",
              "    <tr>\n",
              "      <th>0</th>\n",
              "      <td>5.1</td>\n",
              "      <td>3.5</td>\n",
              "      <td>1.4</td>\n",
              "      <td>0.2</td>\n",
              "      <td>0.0</td>\n",
              "      <td>setosa</td>\n",
              "    </tr>\n",
              "    <tr>\n",
              "      <th>1</th>\n",
              "      <td>4.9</td>\n",
              "      <td>3.0</td>\n",
              "      <td>1.4</td>\n",
              "      <td>0.2</td>\n",
              "      <td>0.0</td>\n",
              "      <td>setosa</td>\n",
              "    </tr>\n",
              "    <tr>\n",
              "      <th>2</th>\n",
              "      <td>4.7</td>\n",
              "      <td>3.2</td>\n",
              "      <td>1.3</td>\n",
              "      <td>0.2</td>\n",
              "      <td>0.0</td>\n",
              "      <td>setosa</td>\n",
              "    </tr>\n",
              "    <tr>\n",
              "      <th>3</th>\n",
              "      <td>4.6</td>\n",
              "      <td>3.1</td>\n",
              "      <td>1.5</td>\n",
              "      <td>0.2</td>\n",
              "      <td>0.0</td>\n",
              "      <td>setosa</td>\n",
              "    </tr>\n",
              "    <tr>\n",
              "      <th>4</th>\n",
              "      <td>5.0</td>\n",
              "      <td>3.6</td>\n",
              "      <td>1.4</td>\n",
              "      <td>0.2</td>\n",
              "      <td>0.0</td>\n",
              "      <td>setosa</td>\n",
              "    </tr>\n",
              "  </tbody>\n",
              "</table>\n",
              "</div>"
            ],
            "text/plain": [
              "   sepal_length  sepal_width  petal_length  petal_width  target target_names\n",
              "0           5.1          3.5           1.4          0.2     0.0       setosa\n",
              "1           4.9          3.0           1.4          0.2     0.0       setosa\n",
              "2           4.7          3.2           1.3          0.2     0.0       setosa\n",
              "3           4.6          3.1           1.5          0.2     0.0       setosa\n",
              "4           5.0          3.6           1.4          0.2     0.0       setosa"
            ]
          },
          "metadata": {
            "tags": []
          },
          "execution_count": 8
        }
      ]
    },
    {
      "cell_type": "code",
      "metadata": {
        "colab": {
          "base_uri": "https://localhost:8080/",
          "height": 297
        },
        "id": "FE1Kqb6x11UT",
        "outputId": "fbc95205-f9f3-422c-9132-cc64551ace80"
      },
      "source": [
        "df.describe()"
      ],
      "execution_count": 18,
      "outputs": [
        {
          "output_type": "execute_result",
          "data": {
            "text/html": [
              "<div>\n",
              "<style scoped>\n",
              "    .dataframe tbody tr th:only-of-type {\n",
              "        vertical-align: middle;\n",
              "    }\n",
              "\n",
              "    .dataframe tbody tr th {\n",
              "        vertical-align: top;\n",
              "    }\n",
              "\n",
              "    .dataframe thead th {\n",
              "        text-align: right;\n",
              "    }\n",
              "</style>\n",
              "<table border=\"1\" class=\"dataframe\">\n",
              "  <thead>\n",
              "    <tr style=\"text-align: right;\">\n",
              "      <th></th>\n",
              "      <th>sepal_length</th>\n",
              "      <th>sepal_width</th>\n",
              "      <th>petal_length</th>\n",
              "      <th>petal_width</th>\n",
              "      <th>target</th>\n",
              "    </tr>\n",
              "  </thead>\n",
              "  <tbody>\n",
              "    <tr>\n",
              "      <th>count</th>\n",
              "      <td>150.000000</td>\n",
              "      <td>150.000000</td>\n",
              "      <td>150.000000</td>\n",
              "      <td>150.000000</td>\n",
              "      <td>150.000000</td>\n",
              "    </tr>\n",
              "    <tr>\n",
              "      <th>mean</th>\n",
              "      <td>5.843333</td>\n",
              "      <td>3.057333</td>\n",
              "      <td>3.758000</td>\n",
              "      <td>1.199333</td>\n",
              "      <td>1.000000</td>\n",
              "    </tr>\n",
              "    <tr>\n",
              "      <th>std</th>\n",
              "      <td>0.828066</td>\n",
              "      <td>0.435866</td>\n",
              "      <td>1.765298</td>\n",
              "      <td>0.762238</td>\n",
              "      <td>0.819232</td>\n",
              "    </tr>\n",
              "    <tr>\n",
              "      <th>min</th>\n",
              "      <td>4.300000</td>\n",
              "      <td>2.000000</td>\n",
              "      <td>1.000000</td>\n",
              "      <td>0.100000</td>\n",
              "      <td>0.000000</td>\n",
              "    </tr>\n",
              "    <tr>\n",
              "      <th>25%</th>\n",
              "      <td>5.100000</td>\n",
              "      <td>2.800000</td>\n",
              "      <td>1.600000</td>\n",
              "      <td>0.300000</td>\n",
              "      <td>0.000000</td>\n",
              "    </tr>\n",
              "    <tr>\n",
              "      <th>50%</th>\n",
              "      <td>5.800000</td>\n",
              "      <td>3.000000</td>\n",
              "      <td>4.350000</td>\n",
              "      <td>1.300000</td>\n",
              "      <td>1.000000</td>\n",
              "    </tr>\n",
              "    <tr>\n",
              "      <th>75%</th>\n",
              "      <td>6.400000</td>\n",
              "      <td>3.300000</td>\n",
              "      <td>5.100000</td>\n",
              "      <td>1.800000</td>\n",
              "      <td>2.000000</td>\n",
              "    </tr>\n",
              "    <tr>\n",
              "      <th>max</th>\n",
              "      <td>7.900000</td>\n",
              "      <td>4.400000</td>\n",
              "      <td>6.900000</td>\n",
              "      <td>2.500000</td>\n",
              "      <td>2.000000</td>\n",
              "    </tr>\n",
              "  </tbody>\n",
              "</table>\n",
              "</div>"
            ],
            "text/plain": [
              "       sepal_length  sepal_width  petal_length  petal_width      target\n",
              "count    150.000000   150.000000    150.000000   150.000000  150.000000\n",
              "mean       5.843333     3.057333      3.758000     1.199333    1.000000\n",
              "std        0.828066     0.435866      1.765298     0.762238    0.819232\n",
              "min        4.300000     2.000000      1.000000     0.100000    0.000000\n",
              "25%        5.100000     2.800000      1.600000     0.300000    0.000000\n",
              "50%        5.800000     3.000000      4.350000     1.300000    1.000000\n",
              "75%        6.400000     3.300000      5.100000     1.800000    2.000000\n",
              "max        7.900000     4.400000      6.900000     2.500000    2.000000"
            ]
          },
          "metadata": {
            "tags": []
          },
          "execution_count": 18
        }
      ]
    },
    {
      "cell_type": "code",
      "metadata": {
        "id": "dtQfkhJS0p8H"
      },
      "source": [
        "Probability Distribution Function:\n",
        "1. Probability Mass Function(discrete)\n",
        "2. Probability Density Function(continues)\n",
        "3. Cumulative distribution Function"
      ],
      "execution_count": null,
      "outputs": []
    },
    {
      "cell_type": "markdown",
      "metadata": {
        "id": "qmTKrQfc01bV"
      },
      "source": [
        "Probability Distribution Function:\n",
        "1. Probability Mass Function(discrete): P(X=x)\n",
        "2. Probability Density Function(continues): P(X=x)\n",
        "3. Cumulative distribution Function: P(X<x)"
      ]
    },
    {
      "cell_type": "code",
      "metadata": {
        "id": "tYuugQjn1MS6"
      },
      "source": [
        "\n",
        "iris_setosa = df.loc[df[\"target_names\"] == \"setosa\"];\n",
        "iris_virginica = df.loc[df[\"target_names\"] == \"virginica\"];\n",
        "iris_versicolor = df.loc[df[\"target_names\"] == \"versicolor\"];\n"
      ],
      "execution_count": 16,
      "outputs": []
    },
    {
      "cell_type": "code",
      "metadata": {
        "colab": {
          "base_uri": "https://localhost:8080/"
        },
        "id": "XHYbDjh_1_aQ",
        "outputId": "d427d63d-0292-4102-cc39-e51499485b78"
      },
      "source": [
        "print('mean', np.mean(iris_setosa[\"petal_length\"]))\n",
        "print('std', np.std(iris_setosa[\"petal_length\"]))\n",
        "print('mean-with-outlier', np.mean(np.append(iris_setosa[\"petal_length\"],50)));\n",
        "print(np.median(iris_setosa[\"petal_length\"]))"
      ],
      "execution_count": 23,
      "outputs": [
        {
          "output_type": "stream",
          "text": [
            "mean 1.4620000000000002\n",
            "std 0.17191858538273286\n",
            "mean-with-outlier 2.4137254901960787\n"
          ],
          "name": "stdout"
        }
      ]
    },
    {
      "cell_type": "code",
      "metadata": {
        "id": "IT6XXf7X2Cfu"
      },
      "source": [
        "print(np.std(iris_setosa[\"petal_length\"]))"
      ],
      "execution_count": 20,
      "outputs": []
    },
    {
      "cell_type": "code",
      "metadata": {
        "colab": {
          "base_uri": "https://localhost:8080/",
          "height": 525
        },
        "id": "O3AtUXvX0alT",
        "outputId": "46b042ae-a995-49f7-c807-d85c72d670b4"
      },
      "source": [
        "sns.FacetGrid(df, hue=\"target_names\", size=5) \\\n",
        "   .map(sns.distplot, \"petal_length\") \\\n",
        "   .add_legend();\n",
        "plt.show();"
      ],
      "execution_count": 11,
      "outputs": [
        {
          "output_type": "stream",
          "text": [
            "/usr/local/lib/python3.7/dist-packages/seaborn/axisgrid.py:316: UserWarning: The `size` parameter has been renamed to `height`; please update your code.\n",
            "  warnings.warn(msg, UserWarning)\n",
            "/usr/local/lib/python3.7/dist-packages/seaborn/distributions.py:2557: FutureWarning: `distplot` is a deprecated function and will be removed in a future version. Please adapt your code to use either `displot` (a figure-level function with similar flexibility) or `histplot` (an axes-level function for histograms).\n",
            "  warnings.warn(msg, FutureWarning)\n",
            "/usr/local/lib/python3.7/dist-packages/seaborn/distributions.py:2557: FutureWarning: `distplot` is a deprecated function and will be removed in a future version. Please adapt your code to use either `displot` (a figure-level function with similar flexibility) or `histplot` (an axes-level function for histograms).\n",
            "  warnings.warn(msg, FutureWarning)\n",
            "/usr/local/lib/python3.7/dist-packages/seaborn/distributions.py:2557: FutureWarning: `distplot` is a deprecated function and will be removed in a future version. Please adapt your code to use either `displot` (a figure-level function with similar flexibility) or `histplot` (an axes-level function for histograms).\n",
            "  warnings.warn(msg, FutureWarning)\n"
          ],
          "name": "stderr"
        },
        {
          "output_type": "display_data",
          "data": {
            "image/png": "[encoded data removed]",
            "text/plain": [
              "<Figure size 444.75x360 with 1 Axes>"
            ]
          },
          "metadata": {
            "tags": [],
            "needs_background": "light"
          }
        }
      ]
    },
    {
      "cell_type": "code",
      "metadata": {
        "colab": {
          "base_uri": "https://localhost:8080/",
          "height": 299
        },
        "id": "Qm6yyVc8H0EU",
        "outputId": "15b8cbbd-1f31-4eeb-fa4e-b8b0b6f04abb"
      },
      "source": [
        "counts, bin_edges = np.histogram(iris_setosa['petal_length'], bins=10, \n",
        "                                 density = True)\n",
        "pdf = counts/(sum(counts))\n",
        "print(pdf);\n",
        "print(bin_edges);\n",
        "cdf = np.cumsum(pdf)\n",
        "plt.plot(bin_edges[1:],pdf);\n",
        "plt.plot(bin_edges[1:], cdf)\n",
        "\n",
        "\n",
        "counts, bin_edges = np.histogram(iris_setosa['petal_length'], bins=20, \n",
        "                                 density = True)\n",
        "pdf = counts/(sum(counts))\n",
        "plt.plot(bin_edges[1:],pdf);\n",
        "\n",
        "plt.show();"
      ],
      "execution_count": 17,
      "outputs": [
        {
          "output_type": "stream",
          "text": [
            "[0.02 0.02 0.04 0.14 0.26 0.26 0.14 0.08 0.   0.04]\n",
            "[1.   1.09 1.18 1.27 1.36 1.45 1.54 1.63 1.72 1.81 1.9 ]\n"
          ],
          "name": "stdout"
        },
        {
          "output_type": "display_data",
          "data": {
            "image/png": "[encoded data removed]",
            "text/plain": [
              "<Figure size 432x288 with 1 Axes>"
            ]
          },
          "metadata": {
            "tags": [],
            "needs_background": "light"
          }
        }
      ]
    },
    {
      "cell_type": "code",
      "metadata": {
        "id": "dTCg_3OkJxJT"
      },
      "source": [
        ""
      ],
      "execution_count": 26,
      "outputs": []
    },
    {
      "cell_type": "markdown",
      "metadata": {
        "id": "NQfWCsZ73gyX"
      },
      "source": [
        "Distributions:\n",
        "\n",
        "  Bernoulli Trials:- The experiments which have only two possible outcomes: a pearson is COVID +ve or -ve.\n",
        "    \n",
        "  Formula:\n",
        "  ncr p^k (1-p)^n-k\n",
        "  \n",
        "  \n",
        "  pre-requiesites:\n",
        "    1. two outcomes\n",
        "    2. probability of success is same\n",
        "    3. trials are fixed.\n",
        "    4. independent trials\n",
        "\n",
        "  Example: 8% of colour blindness in a random sample of 10 men.\n",
        "\n",
        "    p = 0.08\n",
        "    n =10\n",
        "\n",
        "    1. all 10 men are colour blind:P(X=10) 0.08^10\n",
        "    2. No men are colour blind: P(X=0) = (1-0.08)^10\n",
        "    3. exactly 2 men are color blind: p(X=2) = 10c2(as which 2 men are) 0.08^2 * (1-0.08)^8\n"
      ]
    },
    {
      "cell_type": "code",
      "metadata": {
        "colab": {
          "base_uri": "https://localhost:8080/",
          "height": 265
        },
        "id": "NsZY2uIfKEfc",
        "outputId": "ffab84d2-ac32-48aa-90ca-538de5453688"
      },
      "source": [
        "from scipy.stats import binom \n",
        "import matplotlib.pyplot as plt \n",
        "n = 10\n",
        "p = 0.08\n",
        "# defining list of r values \n",
        "r_values = list(range(n + 1)) \n",
        "# list of pmf values \n",
        "dist = [binom.pmf(r, n, p) for r in r_values ] \n",
        "# plotting the graph  \n",
        "plt.bar(r_values, dist) \n",
        "plt.show()"
      ],
      "execution_count": 26,
      "outputs": [
        {
          "output_type": "display_data",
          "data": {
            "image/png": "[encoded data removed]",
            "text/plain": [
              "<Figure size 432x288 with 1 Axes>"
            ]
          },
          "metadata": {
            "tags": [],
            "needs_background": "light"
          }
        }
      ]
    },
    {
      "cell_type": "markdown",
      "metadata": {
        "id": "g9tuCnbC8QOx"
      },
      "source": [
        "Gausian Distribution: Most of the data can be considered Gaussian in nature.\n",
        "If we know the values of mean and standard-deviation then we can plot this distribution and also state how much of the data lies using 68-95-99 rule.\n",
        "\n",
        "\\[\n",
        "  X $\\sim$ $\\mathcal{N}$($\\mu$,\\,$\\sigma$)\n",
        "\\] "
      ]
    },
    {
      "cell_type": "code",
      "metadata": {
        "colab": {
          "base_uri": "https://localhost:8080/",
          "height": 319
        },
        "id": "9Uedj3y99vc4",
        "outputId": "248bcc7e-4232-42b9-b3b3-bfd1e7c08a67"
      },
      "source": [
        "import seaborn as sns\n",
        "\n",
        "sns.distplot(np.random.normal(size=1000), hist=False)\n",
        "\n",
        "plt.show()"
      ],
      "execution_count": 30,
      "outputs": [
        {
          "output_type": "stream",
          "text": [
            "/usr/local/lib/python3.7/dist-packages/seaborn/distributions.py:2557: FutureWarning: `distplot` is a deprecated function and will be removed in a future version. Please adapt your code to use either `displot` (a figure-level function with similar flexibility) or `kdeplot` (an axes-level function for kernel density plots).\n",
            "  warnings.warn(msg, FutureWarning)\n"
          ],
          "name": "stderr"
        },
        {
          "output_type": "display_data",
          "data": {
            "image/png": "[encoded data removed]",
            "text/plain": [
              "<Figure size 432x288 with 1 Axes>"
            ]
          },
          "metadata": {
            "tags": [],
            "needs_background": "light"
          }
        }
      ]
    },
    {
      "cell_type": "code",
      "metadata": {
        "id": "PaH9VxEP-DVd"
      },
      "source": [
        ""
      ],
      "execution_count": null,
      "outputs": []
    },
    {
      "cell_type": "markdown",
      "metadata": {
        "id": "Sn-r-puQ-uV0"
      },
      "source": [
        "Standard Normal Variate(Z): (X-$\\sigma$)/$\\mu$\n",
        "\n",
        "Central Limit Theorem:  sampling-dist of sample-means is a guassian distribution with mean $\\mu$ and variance $\\sigma^{2}$/n"
      ]
    },
    {
      "cell_type": "code",
      "metadata": {
        "id": "4MYj-342-76G"
      },
      "source": [
        ""
      ],
      "execution_count": null,
      "outputs": []
    },
    {
      "cell_type": "markdown",
      "metadata": {
        "id": "5phNfEBCAH59"
      },
      "source": [
        "Uniform Distribution: Equally likely chance of happening."
      ]
    },
    {
      "cell_type": "code",
      "metadata": {
        "colab": {
          "base_uri": "https://localhost:8080/",
          "height": 279
        },
        "id": "W3mm_Cp1ATEK",
        "outputId": "919cce4a-2ec3-49c7-af92-3f8547f09e5c"
      },
      "source": [
        "\n",
        "num_throws = 10000\n",
        "outcomes = np.zeros(num_throws)\n",
        "for i in range(num_throws):\n",
        "    # let's roll the die\n",
        "    outcome = np.random.choice(['1', '2', '3', '4', '5', '6'])\n",
        "    outcomes[i] = outcome\n",
        "\n",
        "\n",
        "val, cnt = np.unique(outcomes, return_counts=True)\n",
        "prop = cnt / len(outcomes)\n",
        "\n",
        "# Now that we have rolled our die 10000 times, let's plot the results\n",
        "plt.bar(val, prop)\n",
        "plt.ylabel(\"Probability\")\n",
        "plt.xlabel(\"Outcome\")\n",
        "plt.show()\n",
        "plt.close()"
      ],
      "execution_count": 31,
      "outputs": [
        {
          "output_type": "display_data",
          "data": {
            "image/png": "[encoded data removed]",
            "text/plain": [
              "<Figure size 432x288 with 1 Axes>"
            ]
          },
          "metadata": {
            "tags": [],
            "needs_background": "light"
          }
        }
      ]
    },
    {
      "cell_type": "code",
      "metadata": {
        "colab": {
          "base_uri": "https://localhost:8080/",
          "height": 336
        },
        "id": "09b_su1uAXOG",
        "outputId": "443a4d18-b318-41f7-fc08-ce1cf3a01fd0"
      },
      "source": [
        "sns.distplot(np.random.uniform(size=1000), hist=True)"
      ],
      "execution_count": 34,
      "outputs": [
        {
          "output_type": "stream",
          "text": [
            "/usr/local/lib/python3.7/dist-packages/seaborn/distributions.py:2557: FutureWarning: `distplot` is a deprecated function and will be removed in a future version. Please adapt your code to use either `displot` (a figure-level function with similar flexibility) or `histplot` (an axes-level function for histograms).\n",
            "  warnings.warn(msg, FutureWarning)\n"
          ],
          "name": "stderr"
        },
        {
          "output_type": "execute_result",
          "data": {
            "text/plain": [
              "<matplotlib.axes._subplots.AxesSubplot at 0x7f9e2a1b0490>"
            ]
          },
          "metadata": {
            "tags": []
          },
          "execution_count": 34
        },
        {
          "output_type": "display_data",
          "data": {
            "image/png": "[encoded data removed]",
            "text/plain": [
              "<Figure size 432x288 with 1 Axes>"
            ]
          },
          "metadata": {
            "tags": [],
            "needs_background": "light"
          }
        }
      ]
    },
    {
      "cell_type": "code",
      "metadata": {
        "colab": {
          "base_uri": "https://localhost:8080/",
          "height": 336
        },
        "id": "cEXubMYlDffO",
        "outputId": "85e886f8-c2fb-4752-c13e-cd810e583d31"
      },
      "source": [
        "sns.distplot(np.random.chisquare(df=6, size=1000), hist=True)"
      ],
      "execution_count": 40,
      "outputs": [
        {
          "output_type": "stream",
          "text": [
            "/usr/local/lib/python3.7/dist-packages/seaborn/distributions.py:2557: FutureWarning: `distplot` is a deprecated function and will be removed in a future version. Please adapt your code to use either `displot` (a figure-level function with similar flexibility) or `histplot` (an axes-level function for histograms).\n",
            "  warnings.warn(msg, FutureWarning)\n"
          ],
          "name": "stderr"
        },
        {
          "output_type": "execute_result",
          "data": {
            "text/plain": [
              "<matplotlib.axes._subplots.AxesSubplot at 0x7f9e2590b110>"
            ]
          },
          "metadata": {
            "tags": []
          },
          "execution_count": 40
        },
        {
          "output_type": "display_data",
          "data": {
            "image/png": "[encoded data removed]",
            "text/plain": [
              "<Figure size 432x288 with 1 Axes>"
            ]
          },
          "metadata": {
            "tags": [],
            "needs_background": "light"
          }
        }
      ]
    },
    {
      "cell_type": "markdown",
      "metadata": {
        "id": "HzEVMXqPEuwi"
      },
      "source": [
        ""
      ]
    },
    {
      "cell_type": "markdown",
      "metadata": {
        "id": "GIWve9wYA_7K"
      },
      "source": [
        "poisson distribution :\n",
        "Is used in the cases of time-intervals\n",
        "\n",
        "P(X=x) = $\\exp^{-lambda}\\ $\\lambda^{k}\\"
      ]
    },
    {
      "cell_type": "code",
      "metadata": {
        "colab": {
          "base_uri": "https://localhost:8080/",
          "height": 336
        },
        "id": "jpx_qpmyHLCm",
        "outputId": "fc1b5497-9bc1-4758-e602-b9119b2b97d2"
      },
      "source": [
        "sns.distplot(np.random.poisson(lam=2, size=1000), kde=True)"
      ],
      "execution_count": 42,
      "outputs": [
        {
          "output_type": "stream",
          "text": [
            "/usr/local/lib/python3.7/dist-packages/seaborn/distributions.py:2557: FutureWarning: `distplot` is a deprecated function and will be removed in a future version. Please adapt your code to use either `displot` (a figure-level function with similar flexibility) or `histplot` (an axes-level function for histograms).\n",
            "  warnings.warn(msg, FutureWarning)\n"
          ],
          "name": "stderr"
        },
        {
          "output_type": "execute_result",
          "data": {
            "text/plain": [
              "<matplotlib.axes._subplots.AxesSubplot at 0x7f9e25783210>"
            ]
          },
          "metadata": {
            "tags": []
          },
          "execution_count": 42
        },
        {
          "output_type": "display_data",
          "data": {
            "image/png": "[encoded data removed]",
            "text/plain": [
              "<Figure size 432x288 with 1 Axes>"
            ]
          },
          "metadata": {
            "tags": [],
            "needs_background": "light"
          }
        }
      ]
    },
    {
      "cell_type": "markdown",
      "metadata": {
        "id": "mfOWgZQUD4ji"
      },
      "source": [
        "T-Distribution:\n",
        "\n",
        "1. Distribution is gaussian\n",
        "2. std is unknown\n",
        "3. Sample size is very small\n",
        "\n",
        "(sample_mean-population_mean)/(sample_variance/n^1/2)\n",
        "\n",
        "It is similar to that of normal-distribution but based on the degree of freedom the tails of the dist modifies.\n",
        "\n",
        "So can be used for the cases with similarity to skweness and kurtosis."
      ]
    },
    {
      "cell_type": "code",
      "metadata": {
        "id": "YLItzj6eDiW7"
      },
      "source": [
        ""
      ],
      "execution_count": null,
      "outputs": []
    }
  ]
}